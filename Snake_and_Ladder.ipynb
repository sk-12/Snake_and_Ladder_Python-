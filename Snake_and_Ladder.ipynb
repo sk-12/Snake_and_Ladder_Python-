{
  "nbformat": 4,
  "nbformat_minor": 0,
  "metadata": {
    "colab": {
      "name": "Snake_and_Ladder.ipynb",
      "provenance": [],
      "collapsed_sections": []
    },
    "kernelspec": {
      "name": "python3",
      "display_name": "Python 3"
    }
  },
  "cells": [
    {
      "cell_type": "code",
      "metadata": {
        "id": "lvDGHRATvtlS"
      },
      "source": [
        "snake_pos={8:4,\n",
        "           18:1,\n",
        "           11:6,\n",
        "           25:5,\n",
        "           39:9,\n",
        "           42:21,\n",
        "           }\n",
        "      "
      ],
      "execution_count": null,
      "outputs": []
    },
    {
      "cell_type": "code",
      "metadata": {
        "id": "uSpZZetwwTg5"
      },
      "source": [
        "ladder_pos={3:20,\n",
        "            4:50,\n",
        "            6:41,\n",
        "            14:19,\n",
        "            25:35,}\n",
        "            "
      ],
      "execution_count": null,
      "outputs": []
    },
    {
      "cell_type": "code",
      "metadata": {
        "id": "LdCiWny-wqtO"
      },
      "source": [
        "def setup_game():\n",
        "  players=0\n",
        "  while players==0:\n",
        "    try:\n",
        "      players=int(input())\n",
        "      if players>6 or players<2:\n",
        "        print('Enter no. between 2 and 6 only')\n",
        "      else:\n",
        "        break\n",
        "    except ValueError:\n",
        "      print('Enter only numbers')\n",
        "  names={}\n",
        "  for i in range(1,players+1):\n",
        "    print('Enter the name of player {}'.format(i))\n",
        "    name=input()\n",
        "    if name not in names:\n",
        "      names[name]=0\n",
        "    else:\n",
        "      print('enter another name of player {}'.format(i))\n",
        "  return names\n",
        "\n"
      ],
      "execution_count": null,
      "outputs": []
    },
    {
      "cell_type": "code",
      "metadata": {
        "id": "w0_Zcm1FT8Bq"
      },
      "source": [
        "import random\n",
        "def player_pos(cur_pos):\n",
        "  throw=random.randint(1,6)\n",
        "  next_pos=cur_pos=throw\n",
        "  if next_pos>100:\n",
        "    next_pos=cur_pos\n",
        "  if next_pos in ladder_pos:\n",
        "    next_pos=ladder_pos[next_pos]\n",
        "  \n",
        "  elif next_pos in snake_pos:\n",
        "    next_pos=snake_pos[next_pos]\n",
        "    \n",
        "  return next_pos\n"
      ],
      "execution_count": null,
      "outputs": []
    },
    {
      "cell_type": "code",
      "metadata": {
        "id": "p1SwR-wDaDIl"
      },
      "source": [
        "def game(players):\n",
        "  print('Welcome to the snake and ladder game: {},'.format(' '.join(players)))\n",
        "  input('Press Enter')\n",
        "  while True:\n",
        "    for player,current_pos in players.items():\n",
        "      current_pos=player_pos(current_pos,player)\n",
        "      if current_pos==50:\n",
        "        print('Winner is player {}'.format(player))\n",
        "        winner=player\n",
        "      players[player]=current_pos\n",
        "    print('position of player {} is {}'.format(player,current_pos))\n",
        "    input('Press Enter') \n",
        "  return winner\n",
        "\n"
      ],
      "execution_count": null,
      "outputs": []
    },
    {
      "cell_type": "code",
      "metadata": {
        "id": "eLsau-1BcaC-"
      },
      "source": [
        "if __name__=='__main__':\n",
        "  names=setup_game()\n",
        "  winner=game(names)\n",
        "  print('the winner is {}.Congratulations '.format(winner))"
      ],
      "execution_count": null,
      "outputs": []
    }
  ]
}